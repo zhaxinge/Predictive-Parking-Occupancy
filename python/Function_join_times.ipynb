{
 "cells": [
  {
   "cell_type": "code",
   "execution_count": 1,
   "id": "1e610def",
   "metadata": {},
   "outputs": [],
   "source": [
    "import numpy as np\n",
    "import pandas as pd\n",
    "import datetime as dt"
   ]
  },
  {
   "cell_type": "code",
   "execution_count": null,
   "id": "f8933096",
   "metadata": {},
   "outputs": [],
   "source": [
    "date_string_format = '%Y/%m/%d %H:%M:%S %p'\n",
    "date_parserer = lambda s: pd.to_datetime(s,date_string_format)\n",
    "\n",
    "# read Q2 data:\n",
    "path = r'C:/Users/yyp/Desktop/Upenn/MUSA/courses/MUSA5080/Final/data/2021_q2.csv'\n",
    "park = pd.read_csv(\n",
    "    path, \n",
    "    parse_dates=[5,6],\n",
    "    #date_parser=date_parserer,\n",
    "    infer_datetime_format=True,\n",
    "    dayfirst=False,\n",
    "    cache_dates=True\n",
    "    )\n",
    "\n",
    "park = park.loc[park['session_start_dt']<park['session_end_dt']]\n",
    "\n",
    "# April:\n",
    "t1 = park.loc[park['Month']==4]\n",
    "t1 = pd.DataFrame(t1)\n",
    "\n",
    "# post_id list:\n",
    "id_list = t1['post_id'].unique()"
   ]
  },
  {
   "cell_type": "markdown",
   "id": "0a4956a4",
   "metadata": {},
   "source": [
    "- function: join_times. \n",
    "\n",
    "This function is used to solve the problem of overlapping."
   ]
  },
  {
   "cell_type": "code",
   "execution_count": null,
   "id": "9fea9415",
   "metadata": {},
   "outputs": [],
   "source": [
    "def join_times(x):\n",
    "    startdf = pd.DataFrame({'time':x[\"session_start_dt\"], 'what':1})\n",
    "    enddf = pd.DataFrame({'time':x['session_end_dt'], 'what':-1})\n",
    "    mergdf = pd.concat([startdf, enddf]).sort_values('time')\n",
    "    mergdf['running'] = mergdf['what'].cumsum()\n",
    "    mergdf['newwin'] = mergdf['running'].eq(1) & mergdf['what'].eq(1)\n",
    "    mergdf['group'] = mergdf['newwin'].cumsum()\n",
    "    x['group'] = mergdf['group'].loc[mergdf['what'].eq(1)]\n",
    "    res = x.groupby('group').agg({'session_start_dt':'first','session_end_dt':'last' })\n",
    "    res[\"interval\"] = (res['session_end_dt']-res['session_start_dt']).dt.seconds\n",
    "    return res"
   ]
  },
  {
   "cell_type": "code",
   "execution_count": null,
   "id": "1deab1a8",
   "metadata": {},
   "outputs": [],
   "source": [
    "p = pd.DataFrame()\n",
    "\n",
    "for i in id_list:\n",
    "    r1 = t1.loc[park['post_id']==i]\n",
    "    r1 = pd.DataFrame(r1)\n",
    "    p1 = r1.groupby(['Month','post_id']).apply(join_times).reset_index().drop('group', axis=1)\n",
    "    p = pd.concat([p, p1])"
   ]
  },
  {
   "cell_type": "markdown",
   "id": "4eb77ccc",
   "metadata": {},
   "source": [
    "It works fine, but takes way too long time to run. (About 2h)"
   ]
  }
 ],
 "metadata": {
  "kernelspec": {
   "display_name": "MUSA_5500",
   "language": "python",
   "name": "musa_5500"
  },
  "language_info": {
   "codemirror_mode": {
    "name": "ipython",
    "version": 3
   },
   "file_extension": ".py",
   "mimetype": "text/x-python",
   "name": "python",
   "nbconvert_exporter": "python",
   "pygments_lexer": "ipython3",
   "version": "3.9.13"
  }
 },
 "nbformat": 4,
 "nbformat_minor": 5
}
